{
 "cells": [
  {
   "cell_type": "code",
   "execution_count": 1,
   "metadata": {
    "_cell_guid": "b1076dfc-b9ad-4769-8c92-a6c4dae69d19",
    "_uuid": "8f2839f25d086af736a60e9eeb907d3b93b6e0e5"
   },
   "outputs": [],
   "source": [
    "import tensorflow as tf\n",
    "import numpy as np\n",
    "import matplotlib.pyplot as plt\n",
    "import os\n",
    "from tqdm import tqdm\n",
    "import cv2\n",
    "from numpy import random as rng\n",
    "from sklearn.utils import shuffle\n",
    "import pickle\n",
    "import time\n",
    "\n",
    "from tensorflow.keras.layers import Input, Lambda, Conv2D, MaxPooling2D, BatchNormalization, Dense, Flatten, Activation, Dropout\n",
    "from tensorflow.keras.models import Sequential, Model\n",
    "from tensorflow.keras import backend as K"
   ]
  },
  {
   "cell_type": "code",
   "execution_count": 2,
   "metadata": {
    "_cell_guid": "79c7e3d0-c299-4dcb-8224-4455121ee9b0",
    "_uuid": "d629ff2d2480ee46fbb7e2d37f6b5fab8052498a"
   },
   "outputs": [],
   "source": [
    "image_train_dir = '/kaggle/input/omniglot/images_background'\n",
    "image_eval_dir = '/kaggle/input/omniglot/images_evaluation'"
   ]
  },
  {
   "cell_type": "code",
   "execution_count": 3,
   "metadata": {},
   "outputs": [],
   "source": [
    "def load_data(dir_path):\n",
    "    X = []\n",
    "    y = []\n",
    "    lang_dict = {}\n",
    "    classNo = 0\n",
    "    for alphabet in tqdm(sorted(os.listdir(dir_path))):\n",
    "        lang_dict[alphabet] = [classNo,None]\n",
    "        alpha_path = os.path.join(dir_path,alphabet)\n",
    "        for letter in sorted(os.listdir(alpha_path)):\n",
    "            cat_images= []\n",
    "            for img in sorted(os.listdir(os.path.join(alpha_path,letter))):\n",
    "                img_path = os.path.join(alpha_path,letter,img)\n",
    "                cat_images.append(cv2.cvtColor(cv2.imread(img_path),cv2.COLOR_BGR2GRAY))\n",
    "                y.append(classNo)\n",
    "            classNo += 1\n",
    "            X.append(cat_images)\n",
    "            lang_dict[alphabet][1] = classNo-1\n",
    "    X = np.array(X)\n",
    "    y = np.array(y)\n",
    "#     print(X.shape,y.shape)\n",
    "    return X, y, lang_dict"
   ]
  },
  {
   "cell_type": "code",
   "execution_count": 4,
   "metadata": {},
   "outputs": [
    {
     "name": "stderr",
     "output_type": "stream",
     "text": [
      "100%|██████████| 30/30 [00:42<00:00,  1.41s/it]\n",
      "100%|██████████| 20/20 [00:29<00:00,  1.47s/it]\n"
     ]
    }
   ],
   "source": [
    "trainImages,trainLabels,lang_dict = load_data(image_train_dir)\n",
    "valImages,valLabels,lang_dictVal = load_data(image_eval_dir)"
   ]
  },
  {
   "cell_type": "code",
   "execution_count": 5,
   "metadata": {},
   "outputs": [
    {
     "data": {
      "text/plain": [
       "((964, 20, 105, 105), (19280,))"
      ]
     },
     "execution_count": 5,
     "metadata": {},
     "output_type": "execute_result"
    }
   ],
   "source": [
    "trainImages.shape, trainLabels.shape"
   ]
  },
  {
   "cell_type": "code",
   "execution_count": 6,
   "metadata": {},
   "outputs": [],
   "source": [
    "def get_batch(batch_size,dset='train'):\n",
    "    if dset == 'train':\n",
    "        X = trainImages\n",
    "    else:\n",
    "        X = valImages\n",
    "    n_classes, n_examples, w, h = X.shape\n",
    "    cat = rng.choice(n_classes, size=batch_size, replace=False)\n",
    "    targets = np.zeros((batch_size,))\n",
    "    targets[batch_size//2:] = 1\n",
    "    pairs = [np.zeros((batch_size,w,h,1)) for _ in range(2)]\n",
    "    for i in range(batch_size):\n",
    "        ex_no = rng.randint(n_examples)\n",
    "        pairs[0][i,:,:,:] = X[cat[i],ex_no,:,:].reshape(w,h,1)\n",
    "        cat2 = 0\n",
    "        if i >= batch_size // 2:\n",
    "            cat2 = cat[i]\n",
    "        else:\n",
    "            cat2 = (cat[i] + rng.randint(1,n_classes)) % n_classes\n",
    "        ex_no2 = rng.randint(n_examples)\n",
    "        pairs[1][i,:,:,:] = X[cat2,ex_no2,:,:].reshape(w,h,1)\n",
    "    return pairs,targets"
   ]
  },
  {
   "cell_type": "code",
   "execution_count": 7,
   "metadata": {},
   "outputs": [],
   "source": [
    "# def generate(batch_size=16,dset='train'):\n",
    "#     while True:\n",
    "#         pairs,targets = get_batch(batch_size,dset)\n",
    "#         yield (pairs,targets)"
   ]
  },
  {
   "cell_type": "code",
   "execution_count": 8,
   "metadata": {},
   "outputs": [],
   "source": [
    "def make_one_shot_task(N,dset='val'):\n",
    "    if dset == 'train':\n",
    "        X = trainImages\n",
    "    else:\n",
    "        X = valImages\n",
    "    n_classes, n_examples, w, h = X.shape\n",
    "    cats = rng.choice(n_classes,size=(N,))\n",
    "    indices = rng.choice(n_examples,size=(N,))\n",
    "    true_cat = cats[0]\n",
    "    ex1 = rng.randint(n_examples)\n",
    "    test_image = np.array([X[true_cat,ex1]]*N).reshape(N,w,h,1)\n",
    "    support_set = X[cats,indices].reshape(N,w,h,1)\n",
    "    targets = np.zeros((N,))\n",
    "    targets[0] = 1\n",
    "    \n",
    "    test_image,support_set,targets = shuffle(test_image,support_set,targets)\n",
    "    \n",
    "    return [test_image,support_set], targets"
   ]
  },
  {
   "cell_type": "code",
   "execution_count": 9,
   "metadata": {},
   "outputs": [],
   "source": [
    "def test_one_shot(model,N,k,dset='val'):\n",
    "    n_correct = 0\n",
    "    for _ in range(k):\n",
    "        inputs, outputs = make_one_shot_task(N,dset)\n",
    "        preds = model.predict(inputs)\n",
    "        if np.argmax(outputs) == np.argmax(preds):\n",
    "            n_correct += 1\n",
    "    return n_correct / k"
   ]
  },
  {
   "cell_type": "markdown",
   "execution_count": null,
   "metadata": {},
   "source": [
    "# Siamese Network"
   ]
  },
  {
   "cell_type": "code",
   "execution_count": 10,
   "metadata": {},
   "outputs": [],
   "source": [
    "def get_siamese(input_shape):\n",
    "    left_input = Input(input_shape)\n",
    "    right_input = Input(input_shape)\n",
    "    \n",
    "    model = Sequential()\n",
    "    model.add(Conv2D(64,(5,5),input_shape=input_shape,activation='relu',kernel_regularizer='l2'))\n",
    "    model.add(BatchNormalization())\n",
    "    model.add(Activation('relu'))\n",
    "    model.add(MaxPooling2D(pool_size=2,strides=(2,2)))\n",
    "    model.add(Dropout(0.25))\n",
    "    \n",
    "    model.add(Conv2D(128,(5,5),kernel_regularizer='l2'))\n",
    "    model.add(BatchNormalization())\n",
    "    model.add(Activation('relu'))\n",
    "    model.add(MaxPooling2D(pool_size=2,strides=(2,2)))\n",
    "    model.add(Dropout(0.25))\n",
    "    \n",
    "    model.add(Conv2D(128,(5,5),kernel_regularizer='l2'))\n",
    "    model.add(BatchNormalization())\n",
    "    model.add(Activation('relu'))\n",
    "    model.add(MaxPooling2D(pool_size=2,strides=(2,2)))\n",
    "    model.add(Dropout(0.25))\n",
    "    \n",
    "    model.add(Flatten())\n",
    "    \n",
    "    model.add(Dense(512,activation='sigmoid',kernel_regularizer='l2'))\n",
    "    \n",
    "    left_emb = model(left_input)\n",
    "    right_emb = model(right_input)\n",
    "    \n",
    "    L1_Layer = Lambda(lambda tensors: K.abs(tensors[0] - tensors[1]))\n",
    "    L1_Dist = L1_Layer([left_emb,right_emb])\n",
    "    OP = Dense(1,activation='sigmoid',kernel_regularizer='l2')(L1_Dist)\n",
    "    \n",
    "    siamese_net = Model(inputs=[left_input,right_input],outputs=OP)\n",
    "    \n",
    "    return siamese_net"
   ]
  },
  {
   "cell_type": "code",
   "execution_count": 11,
   "metadata": {},
   "outputs": [
    {
     "name": "stdout",
     "output_type": "stream",
     "text": [
      "Model: \"model\"\n",
      "__________________________________________________________________________________________________\n",
      "Layer (type)                    Output Shape         Param #     Connected to                     \n",
      "==================================================================================================\n",
      "input_1 (InputLayer)            [(None, 105, 105, 1) 0                                            \n",
      "__________________________________________________________________________________________________\n",
      "input_2 (InputLayer)            [(None, 105, 105, 1) 0                                            \n",
      "__________________________________________________________________________________________________\n",
      "sequential (Sequential)         (None, 512)          5926528     input_1[0][0]                    \n",
      "                                                                 input_2[0][0]                    \n",
      "__________________________________________________________________________________________________\n",
      "lambda (Lambda)                 (None, 512)          0           sequential[1][0]                 \n",
      "                                                                 sequential[2][0]                 \n",
      "__________________________________________________________________________________________________\n",
      "dense_1 (Dense)                 (None, 1)            513         lambda[0][0]                     \n",
      "==================================================================================================\n",
      "Total params: 5,927,041\n",
      "Trainable params: 5,926,401\n",
      "Non-trainable params: 640\n",
      "__________________________________________________________________________________________________\n"
     ]
    }
   ],
   "source": [
    "num_iterations = 7000\n",
    "batch_size = 128\n",
    "\n",
    "evaluateEvery = 100\n",
    "# Calculate 250 20-way validation testing\n",
    "k = 250\n",
    "N = 20\n",
    "\n",
    "n_classes, n_examples, w, h = trainImages.shape\n",
    "\n",
    "lr_schedule = tf.keras.optimizers.schedules.ExponentialDecay(\n",
    "    initial_learning_rate=0.05,\n",
    "    decay_steps=4000,\n",
    "    decay_rate=0.0001)\n",
    "opt = tf.keras.optimizers.Adam(learning_rate=lr_schedule)\n",
    "\n",
    "model = get_siamese((w, h, 1))\n",
    "\n",
    "model.compile(\n",
    "    loss='binary_crossentropy',\n",
    "    optimizer=opt,\n",
    "    metrics=['accuracy']\n",
    ")\n",
    "\n",
    "model.summary()"
   ]
  },
  {
   "cell_type": "code",
   "execution_count": 12,
   "metadata": {},
   "outputs": [
    {
     "name": "stdout",
     "output_type": "stream",
     "text": [
      "Iteration 0 (23.7s) - Loss: 12.6741295 Acc: 0.48 250 20-way train accuracy: 6.8 %, 250 20-way val accuracy: 5.2 %\n",
      "Iteration 100 (31.0s) - Loss: 7.7933993 Acc: 0.78 250 20-way train accuracy: 28.8 %, 250 20-way val accuracy: 28.0 %\n",
      "Iteration 200 (30.6s) - Loss: 7.739346 Acc: 0.78 250 20-way train accuracy: 41.6 %, 250 20-way val accuracy: 37.2 %\n",
      "Iteration 300 (30.9s) - Loss: 6.463683 Acc: 0.81 250 20-way train accuracy: 43.6 %, 250 20-way val accuracy: 42.0 %\n",
      "Iteration 400 (31.1s) - Loss: 3.3307781 Acc: 0.79 250 20-way train accuracy: 40.0 %, 250 20-way val accuracy: 35.2 %\n",
      "Iteration 500 (30.8s) - Loss: 2.6651623 Acc: 0.76 250 20-way train accuracy: 46.0 %, 250 20-way val accuracy: 36.4 %\n",
      "Iteration 600 (30.2s) - Loss: 1.7577056 Acc: 0.76 250 20-way train accuracy: 46.0 %, 250 20-way val accuracy: 38.8 %\n",
      "Iteration 700 (30.4s) - Loss: 1.2595501 Acc: 0.77 250 20-way train accuracy: 52.4 %, 250 20-way val accuracy: 43.2 %\n",
      "Iteration 800 (30.4s) - Loss: 1.1224725 Acc: 0.86 250 20-way train accuracy: 55.6 %, 250 20-way val accuracy: 52.8 %\n",
      "Iteration 900 (30.7s) - Loss: 1.1302726 Acc: 0.87 250 20-way train accuracy: 63.2 %, 250 20-way val accuracy: 59.6 %\n",
      "Iteration 1000 (30.4s) - Loss: 0.887212 Acc: 0.87 250 20-way train accuracy: 59.6 %, 250 20-way val accuracy: 55.2 %\n",
      "Iteration 1100 (30.3s) - Loss: 0.88478684 Acc: 0.82 250 20-way train accuracy: 66.4 %, 250 20-way val accuracy: 58.0 %\n",
      "Iteration 1200 (30.2s) - Loss: 0.7506399 Acc: 0.83 250 20-way train accuracy: 62.4 %, 250 20-way val accuracy: 55.6 %\n",
      "Iteration 1300 (30.6s) - Loss: 0.619668 Acc: 0.91 250 20-way train accuracy: 67.6 %, 250 20-way val accuracy: 68.0 %\n",
      "Iteration 1400 (30.3s) - Loss: 0.6274991 Acc: 0.87 250 20-way train accuracy: 72.4 %, 250 20-way val accuracy: 61.2 %\n",
      "Iteration 1500 (30.4s) - Loss: 0.51101506 Acc: 0.92 250 20-way train accuracy: 65.6 %, 250 20-way val accuracy: 66.0 %\n",
      "Iteration 1600 (29.7s) - Loss: 0.53098726 Acc: 0.84 250 20-way train accuracy: 70.8 %, 250 20-way val accuracy: 59.6 %\n",
      "Iteration 1700 (30.6s) - Loss: 0.4942041 Acc: 0.88 250 20-way train accuracy: 72.8 %, 250 20-way val accuracy: 64.4 %\n",
      "Iteration 1800 (30.6s) - Loss: 0.41345727 Acc: 0.91 250 20-way train accuracy: 68.8 %, 250 20-way val accuracy: 70.0 %\n",
      "Iteration 1900 (30.3s) - Loss: 0.43258858 Acc: 0.87 250 20-way train accuracy: 70.4 %, 250 20-way val accuracy: 66.8 %\n",
      "Iteration 2000 (29.9s) - Loss: 0.38576272 Acc: 0.89 250 20-way train accuracy: 74.0 %, 250 20-way val accuracy: 68.0 %\n",
      "Iteration 2100 (30.3s) - Loss: 0.3565935 Acc: 0.91 250 20-way train accuracy: 72.4 %, 250 20-way val accuracy: 62.0 %\n",
      "Iteration 2200 (30.3s) - Loss: 0.39980358 Acc: 0.88 250 20-way train accuracy: 78.0 %, 250 20-way val accuracy: 70.8 %\n",
      "Iteration 2300 (30.3s) - Loss: 0.35825875 Acc: 0.92 250 20-way train accuracy: 78.0 %, 250 20-way val accuracy: 67.2 %\n",
      "Iteration 2400 (30.4s) - Loss: 0.33981365 Acc: 0.93 250 20-way train accuracy: 77.6 %, 250 20-way val accuracy: 70.0 %\n",
      "Iteration 2500 (30.0s) - Loss: 0.32280287 Acc: 0.91 250 20-way train accuracy: 79.6 %, 250 20-way val accuracy: 76.4 %\n",
      "Iteration 2600 (30.8s) - Loss: 0.31874114 Acc: 0.94 250 20-way train accuracy: 81.6 %, 250 20-way val accuracy: 71.6 %\n",
      "Iteration 2700 (30.1s) - Loss: 0.32051885 Acc: 0.93 250 20-way train accuracy: 81.6 %, 250 20-way val accuracy: 75.2 %\n",
      "Iteration 2800 (30.8s) - Loss: 0.2973842 Acc: 0.93 250 20-way train accuracy: 79.2 %, 250 20-way val accuracy: 74.0 %\n",
      "Iteration 2900 (30.4s) - Loss: 0.31365627 Acc: 0.94 250 20-way train accuracy: 79.2 %, 250 20-way val accuracy: 80.4 %\n",
      "Iteration 3000 (30.4s) - Loss: 0.25823224 Acc: 0.96 250 20-way train accuracy: 84.0 %, 250 20-way val accuracy: 71.6 %\n",
      "Iteration 3100 (30.1s) - Loss: 0.24892777 Acc: 0.95 250 20-way train accuracy: 82.8 %, 250 20-way val accuracy: 76.8 %\n",
      "Iteration 3200 (30.2s) - Loss: 0.31213292 Acc: 0.91 250 20-way train accuracy: 81.6 %, 250 20-way val accuracy: 74.4 %\n",
      "Iteration 3300 (30.3s) - Loss: 0.29048446 Acc: 0.93 250 20-way train accuracy: 84.8 %, 250 20-way val accuracy: 77.6 %\n",
      "Iteration 3400 (30.4s) - Loss: 0.30772918 Acc: 0.91 250 20-way train accuracy: 82.8 %, 250 20-way val accuracy: 74.0 %\n",
      "Iteration 3500 (30.1s) - Loss: 0.28567114 Acc: 0.92 250 20-way train accuracy: 83.6 %, 250 20-way val accuracy: 75.6 %\n",
      "Iteration 3600 (30.3s) - Loss: 0.28913143 Acc: 0.91 250 20-way train accuracy: 85.6 %, 250 20-way val accuracy: 74.4 %\n",
      "Iteration 3700 (30.2s) - Loss: 0.28486505 Acc: 0.91 250 20-way train accuracy: 82.4 %, 250 20-way val accuracy: 73.2 %\n",
      "Iteration 3800 (31.0s) - Loss: 0.2543269 Acc: 0.95 250 20-way train accuracy: 85.6 %, 250 20-way val accuracy: 74.8 %\n",
      "Iteration 3900 (30.2s) - Loss: 0.28272408 Acc: 0.91 250 20-way train accuracy: 76.8 %, 250 20-way val accuracy: 75.2 %\n",
      "Iteration 4000 (30.5s) - Loss: 0.29254428 Acc: 0.92 250 20-way train accuracy: 81.2 %, 250 20-way val accuracy: 76.8 %\n",
      "Iteration 4100 (30.0s) - Loss: 0.29239792 Acc: 0.94 250 20-way train accuracy: 85.6 %, 250 20-way val accuracy: 76.4 %\n",
      "Iteration 4200 (30.6s) - Loss: 0.262648 Acc: 0.97 250 20-way train accuracy: 86.4 %, 250 20-way val accuracy: 76.8 %\n",
      "Iteration 4300 (29.9s) - Loss: 0.22255999 Acc: 0.97 250 20-way train accuracy: 82.4 %, 250 20-way val accuracy: 74.4 %\n",
      "Iteration 4400 (30.6s) - Loss: 0.2572984 Acc: 0.95 250 20-way train accuracy: 86.4 %, 250 20-way val accuracy: 74.0 %\n",
      "Iteration 4500 (30.0s) - Loss: 0.24146652 Acc: 0.95 250 20-way train accuracy: 80.0 %, 250 20-way val accuracy: 74.4 %\n",
      "Iteration 4600 (30.7s) - Loss: 0.2845267 Acc: 0.92 250 20-way train accuracy: 81.6 %, 250 20-way val accuracy: 79.2 %\n",
      "Iteration 4700 (30.2s) - Loss: 0.2584696 Acc: 0.95 250 20-way train accuracy: 81.6 %, 250 20-way val accuracy: 74.8 %\n",
      "Iteration 4800 (30.2s) - Loss: 0.24556273 Acc: 0.96 250 20-way train accuracy: 86.0 %, 250 20-way val accuracy: 76.4 %\n",
      "Iteration 4900 (30.1s) - Loss: 0.3076883 Acc: 0.92 250 20-way train accuracy: 82.8 %, 250 20-way val accuracy: 76.8 %\n",
      "Iteration 5000 (30.7s) - Loss: 0.28095388 Acc: 0.98 250 20-way train accuracy: 80.0 %, 250 20-way val accuracy: 80.0 %\n",
      "Iteration 5100 (30.2s) - Loss: 0.3271117 Acc: 0.88 250 20-way train accuracy: 86.4 %, 250 20-way val accuracy: 81.6 %\n",
      "Iteration 5200 (30.4s) - Loss: 0.28101808 Acc: 0.96 250 20-way train accuracy: 84.8 %, 250 20-way val accuracy: 76.4 %\n",
      "Iteration 5300 (30.2s) - Loss: 0.23076989 Acc: 0.97 250 20-way train accuracy: 84.0 %, 250 20-way val accuracy: 79.6 %\n",
      "Iteration 5400 (30.9s) - Loss: 0.25816545 Acc: 0.94 250 20-way train accuracy: 85.6 %, 250 20-way val accuracy: 78.4 %\n",
      "Iteration 5500 (30.3s) - Loss: 0.25284547 Acc: 0.95 250 20-way train accuracy: 80.0 %, 250 20-way val accuracy: 80.8 %\n",
      "Iteration 5600 (30.5s) - Loss: 0.28154868 Acc: 0.93 250 20-way train accuracy: 83.2 %, 250 20-way val accuracy: 77.2 %\n",
      "Iteration 5700 (29.8s) - Loss: 0.26215097 Acc: 0.94 250 20-way train accuracy: 83.2 %, 250 20-way val accuracy: 77.6 %\n",
      "Iteration 5800 (31.0s) - Loss: 0.26794052 Acc: 0.95 250 20-way train accuracy: 84.8 %, 250 20-way val accuracy: 76.4 %\n",
      "Iteration 5900 (30.8s) - Loss: 0.25015777 Acc: 0.94 250 20-way train accuracy: 86.0 %, 250 20-way val accuracy: 78.0 %\n",
      "Iteration 6000 (31.4s) - Loss: 0.30632153 Acc: 0.94 250 20-way train accuracy: 81.2 %, 250 20-way val accuracy: 71.6 %\n",
      "Iteration 6100 (30.5s) - Loss: 0.24945241 Acc: 0.96 250 20-way train accuracy: 85.2 %, 250 20-way val accuracy: 77.6 %\n",
      "Iteration 6200 (30.8s) - Loss: 0.26881656 Acc: 0.95 250 20-way train accuracy: 87.6 %, 250 20-way val accuracy: 79.2 %\n",
      "Iteration 6300 (30.5s) - Loss: 0.24871187 Acc: 0.95 250 20-way train accuracy: 85.6 %, 250 20-way val accuracy: 78.0 %\n",
      "Iteration 6400 (30.9s) - Loss: 0.23935883 Acc: 0.97 250 20-way train accuracy: 82.4 %, 250 20-way val accuracy: 75.2 %\n",
      "Iteration 6500 (30.1s) - Loss: 0.27372715 Acc: 0.92 250 20-way train accuracy: 86.4 %, 250 20-way val accuracy: 80.4 %\n",
      "Iteration 6600 (30.1s) - Loss: 0.25241107 Acc: 0.95 250 20-way train accuracy: 85.6 %, 250 20-way val accuracy: 82.0 %\n",
      "Iteration 6700 (30.0s) - Loss: 0.24368808 Acc: 0.96 250 20-way train accuracy: 83.2 %, 250 20-way val accuracy: 78.0 %\n",
      "Iteration 6800 (30.5s) - Loss: 0.24867485 Acc: 0.95 250 20-way train accuracy: 87.6 %, 250 20-way val accuracy: 79.6 %\n",
      "Iteration 6900 (30.5s) - Loss: 0.23395553 Acc: 0.97 250 20-way train accuracy: 84.8 %, 250 20-way val accuracy: 78.8 %\n",
      "Iteration 7000 (30.4s) - Loss: 0.28388634 Acc: 0.94 250 20-way train accuracy: 81.6 %, 250 20-way val accuracy: 76.4 %\n"
     ]
    }
   ],
   "source": [
    "lossArr = []\n",
    "trainAccArr = []\n",
    "valAccArr = []\n",
    "currTime = time.time()\n",
    "for i in range(0,num_iterations+1):\n",
    "    x,y = get_batch(batch_size)\n",
    "    loss = model.train_on_batch(x,y)\n",
    "    if i % evaluateEvery == 0:\n",
    "        lossArr.append(loss[0])\n",
    "        trainAcc = round(test_one_shot(model,N,k,'train') * 100,2)\n",
    "        valAcc = round(test_one_shot(model,N,k,'val') * 100,2)\n",
    "        trainAccArr.append(trainAcc)\n",
    "        valAccArr.append(valAcc)\n",
    "        print('Iteration',i,'('+str(round(time.time() - currTime,1))+'s) - Loss:',loss[0],'Acc:',round(loss[1],2),'',end='')\n",
    "        print(k,str(N)+'-way train accuracy:', trainAcc,'%, ',end='')\n",
    "        print(k,str(N)+'-way val accuracy:', valAcc,'%')\n",
    "        currTime = time.time()"
   ]
  },
  {
   "cell_type": "code",
   "execution_count": 13,
   "metadata": {},
   "outputs": [
    {
     "data": {
      "image/png": "[encoded data removed]",
      "text/plain": [
       "<Figure size 360x360 with 1 Axes>"
      ]
     },
     "metadata": {
      "needs_background": "light"
     },
     "output_type": "display_data"
    }
   ],
   "source": [
    "epochs_range = [i*evaluateEvery for i in range(1, len(trainAccArr) + 1)]\n",
    "\n",
    "plt.figure(figsize=(5,5))\n",
    "\n",
    "plt.plot(epochs_range, trainAccArr, label='Train Set')\n",
    "plt.plot(epochs_range, valAccArr, label='Val Set')\n",
    "plt.legend(loc=\"best\")\n",
    "plt.xlabel('Iterations')\n",
    "plt.ylabel('Accuracy')\n",
    "plt.title('Model Accuracy')\n",
    "\n",
    "plt.tight_layout()\n",
    "plt.show()"
   ]
  },
  {
   "cell_type": "code",
   "execution_count": 14,
   "metadata": {},
   "outputs": [
    {
     "name": "stdout",
     "output_type": "stream",
     "text": [
      "Final Validation Accuracy using 250 20-Way One Shot Learning: 76.0\n"
     ]
    }
   ],
   "source": [
    "print('Final Validation Accuracy using 250 20-Way One Shot Learning:', round(test_one_shot(model,N,k,'val') * 100,2))"
   ]
  },
  {
   "cell_type": "code",
   "execution_count": 15,
   "metadata": {},
   "outputs": [],
   "source": [
    "model.save('omniglot-siamese.h5')"
   ]
  },
  {
   "cell_type": "code",
   "execution_count": null,
   "metadata": {},
   "outputs": [],
   "source": []
  }
 ],
 "metadata": {
  "kernelspec": {
   "display_name": "Python 3",
   "language": "python",
   "name": "python3"
  },
  "language_info": {
   "codemirror_mode": {
    "name": "ipython",
    "version": 3
   },
   "file_extension": ".py",
   "mimetype": "text/x-python",
   "name": "python",
   "nbconvert_exporter": "python",
   "pygments_lexer": "ipython3",
   "version": "3.7.6"
  }
 },
 "nbformat": 4,
 "nbformat_minor": 4
}
